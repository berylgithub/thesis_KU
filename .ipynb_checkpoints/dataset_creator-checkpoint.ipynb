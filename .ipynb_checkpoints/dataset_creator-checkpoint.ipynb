{
 "cells": [
  {
   "cell_type": "code",
   "execution_count": 13,
   "metadata": {},
   "outputs": [],
   "source": [
    "import numpy as np\n",
    "import pandas as pd"
   ]
  },
  {
   "cell_type": "code",
   "execution_count": 26,
   "metadata": {},
   "outputs": [],
   "source": [
    "f_euclid_dist = lambda a,b: np.linalg.norm(a-b)\n",
    "\n",
    "def f_h_step(a, x):\n",
    "    return 1 if (x<=a) else 0\n",
    "\n",
    "f_y = lambda k : -np.log10(k)"
   ]
  },
  {
   "cell_type": "code",
   "execution_count": 28,
   "metadata": {},
   "outputs": [
    {
     "data": {
      "text/plain": [
       "6.0"
      ]
     },
     "execution_count": 28,
     "metadata": {},
     "output_type": "execute_result"
    }
   ],
   "source": []
  },
  {
   "cell_type": "code",
   "execution_count": 19,
   "metadata": {},
   "outputs": [],
   "source": [
    "ID_atoms = ['C','N','O','F','P','S','Cl','Br','I']\n",
    "\n",
    "def load_complex(path):\n",
    "    return pd.read_csv(path)\n",
    "\n",
    "'''\n",
    "complex molecules shall be stored in dictionaries, e.g : {  'name':'2tpi',\n",
    "                                                            'k':2e-10,\n",
    "                                                            'protein_atoms': \n",
    "                                                                        'C':[[],[],...],\n",
    "                                                                        'N':[[],[],...],\n",
    "                                                                        .......\n",
    "                                                            'ligand_atoms': .......\n",
    "                                                        }\n",
    "'''"
   ]
  },
  {
   "cell_type": "code",
   "execution_count": 106,
   "metadata": {},
   "outputs": [
    {
     "name": "stdout",
     "output_type": "stream",
     "text": [
      "N\n"
     ]
    }
   ],
   "source": [
    "'''\n",
    "Complex data manipulator, \n",
    "considered atoms for binding (Pedro, Mitchell (2010)) = proteins <-> ligands : {C,N,O,S} <-> {C,N,O,F,P,S,Cl,Br,I}\n",
    "'''\n",
    "'''load ligand data'''\n",
    "path='/home/berylramadhian/Documents/thesis_KU/Dataset/pdbbind_v2018_refined/refined-set/1enu/1enu_ligand.sdf'\n",
    "df_ligand = pd.DataFrame(pd.read_csv(path, delim_whitespace=True, skiprows=[0,1,2,3], usecols=[0,1,2,3], names = [\"x\",\"y\",\"z\",\"atom\"]))\n",
    "print(df_ligand.iloc[0]['atom'])"
   ]
  },
  {
   "cell_type": "code",
   "execution_count": null,
   "metadata": {},
   "outputs": [],
   "source": [
    "''''''"
   ]
  }
 ],
 "metadata": {
  "kernelspec": {
   "display_name": "Python 3",
   "language": "python",
   "name": "python3"
  },
  "language_info": {
   "codemirror_mode": {
    "name": "ipython",
    "version": 3
   },
   "file_extension": ".py",
   "mimetype": "text/x-python",
   "name": "python",
   "nbconvert_exporter": "python",
   "pygments_lexer": "ipython3",
   "version": "3.6.7"
  }
 },
 "nbformat": 4,
 "nbformat_minor": 2
}
