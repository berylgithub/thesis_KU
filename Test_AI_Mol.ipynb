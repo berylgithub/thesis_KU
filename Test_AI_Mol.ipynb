{
 "cells": [
  {
   "cell_type": "markdown",
   "metadata": {},
   "source": []
  },
  {
   "cell_type": "code",
   "execution_count": 7,
   "metadata": {},
   "outputs": [],
   "source": [
    "import numpy as np"
   ]
  },
  {
   "cell_type": "code",
   "execution_count": 23,
   "metadata": {},
   "outputs": [
    {
     "name": "stdout",
     "output_type": "stream",
     "text": [
      "4.0\n"
     ]
    }
   ],
   "source": [
    "def euclidian_distance(a, b):\n",
    "    return np.linalg.norm(a-b)\n",
    "\n",
    "A = np.array([4,0,0])\n",
    "B = np.array([0,0,0])\n",
    "\n",
    "euclid = euclidian_distance(A, B)\n",
    "print(euclid)"
   ]
  },
  {
   "cell_type": "code",
   "execution_count": 25,
   "metadata": {},
   "outputs": [
    {
     "data": {
      "text/plain": [
       "1"
      ]
     },
     "execution_count": 25,
     "metadata": {},
     "output_type": "execute_result"
    }
   ],
   "source": [
    "def heaviside_step_f(x, a):\n",
    "    if x<=a:\n",
    "        return 1\n",
    "    else:\n",
    "        return 0\n",
    "    \n",
    "cutoff = 12\n",
    "heaviside_step_f(euclid, cutoff)"
   ]
  },
  {
   "cell_type": "code",
   "execution_count": 32,
   "metadata": {},
   "outputs": [
    {
     "name": "stdout",
     "output_type": "stream",
     "text": [
      "x>a\n"
     ]
    }
   ],
   "source": [
    "def iftest(x, a):\n",
    "    if x<a :\n",
    "        print(\"x<a\")\n",
    "    elif x==a:\n",
    "        print(\"x=a\")\n",
    "    else:\n",
    "        print(\"x>a\")\n",
    "    \n",
    "iftest(10, 5)"
   ]
  },
  {
   "cell_type": "code",
   "execution_count": null,
   "metadata": {},
   "outputs": [],
   "source": []
  }
 ],
 "metadata": {
  "kernelspec": {
   "display_name": "Python 3",
   "language": "python",
   "name": "python3"
  },
  "language_info": {
   "codemirror_mode": {
    "name": "ipython",
    "version": 3
   },
   "file_extension": ".py",
   "mimetype": "text/x-python",
   "name": "python",
   "nbconvert_exporter": "python",
   "pygments_lexer": "ipython3",
   "version": "3.7.1"
  }
 },
 "nbformat": 4,
 "nbformat_minor": 2
}
